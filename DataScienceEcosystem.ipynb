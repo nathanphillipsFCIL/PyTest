{
 "cells": [
  {
   "cell_type": "markdown",
   "id": "06e1b9b4-9858-49c2-8dc9-3bded0ff7ed4",
   "metadata": {},
   "source": [
    "<h1> Data Science Tools and Ecosystem </h1>"
   ]
  },
  {
   "cell_type": "markdown",
   "id": "5b7df9d7-32f3-4af7-bd9f-36b41a22febc",
   "metadata": {
    "tags": []
   },
   "source": [
    "<h2>Author: Nate Dog</h2>"
   ]
  },
  {
   "cell_type": "markdown",
   "id": "b8f25aec-ca99-4b91-b6d0-f8c22f25cb32",
   "metadata": {},
   "source": [
    "In this notebook, Data Science Tools and Ecosystem are summarized."
   ]
  },
  {
   "cell_type": "markdown",
   "id": "11c66baf-8a22-496e-9dcf-e93d3d6de9e2",
   "metadata": {},
   "source": [
    "Objectives:\n",
    "\n",
    "Some popular numbers that Data Scientists use are:\n",
    "<ul>\n",
    "    <li>1</li>\n",
    "    <li>sqrt(2)</li>\n",
    "    <li>pi</li>\n",
    "</ul>"
   ]
  },
  {
   "cell_type": "markdown",
   "id": "6b22b592-3b6f-48bd-bd89-c77067d5b751",
   "metadata": {
    "tags": []
   },
   "source": [
    "Some of the popular languages that Data Scientists use are:\n",
    "    <ol>\n",
    "    <li>python</li>\n",
    "    <li>SQL</li>\n",
    "    <li>R</li>\n",
    "    </ol>"
   ]
  },
  {
   "cell_type": "markdown",
   "id": "c4b94613-7bc0-4eea-811a-452a7a17ca40",
   "metadata": {},
   "source": [
    "Some of the commonly used libraries used by Data Scientists include:\n",
    "\n",
    "<ol>\n",
    "    <li>Pandas</li>\n",
    "    <li>NumPy</li>\n",
    "    <li>SciPy</li>\n",
    "    </ol>"
   ]
  },
  {
   "cell_type": "markdown",
   "id": "662c018f-7cc1-4a6b-be34-f3b90aa4d100",
   "metadata": {
    "tags": []
   },
   "source": [
    "<table><tr><td>Data Science Tools</td></tr>\n",
    "<tr><td>JupyterLab</td></tr>\n",
    "<tr><td>R Studio</td></tr>\n",
    "<tr><td>VS Studio</td></tr></table>"
   ]
  },
  {
   "cell_type": "markdown",
   "id": "266563e7-2a00-4567-82b0-b41268bf7f0f",
   "metadata": {},
   "source": [
    "<h3>Below are a few examples of evaluating arithmetic expressions in Python</h3>\n",
    "\n",
    "** Exponentiation\n",
    "\n",
    "% Mod\n",
    "\n",
    "\\* Multiplication\n"
   ]
  },
  {
   "cell_type": "code",
   "execution_count": 9,
   "id": "c05320e3-e688-4522-bebf-08ffa1e4f9b7",
   "metadata": {
    "tags": []
   },
   "outputs": [
    {
     "data": {
      "text/plain": [
       "17"
      ]
     },
     "execution_count": 9,
     "metadata": {},
     "output_type": "execute_result"
    }
   ],
   "source": [
    "#This a simple arithmetic expression to mutiply then add integers\n",
    "\n",
    "(3*4)+5"
   ]
  },
  {
   "cell_type": "code",
   "execution_count": 10,
   "id": "29a0ed42-fa95-4019-83c6-2ac9c3bdbde9",
   "metadata": {
    "tags": []
   },
   "outputs": [
    {
     "data": {
      "text/plain": [
       "3.3333333333333335"
      ]
     },
     "execution_count": 10,
     "metadata": {},
     "output_type": "execute_result"
    }
   ],
   "source": [
    "#This will convert 200 minutes to hours by diving by 60\n",
    "\n",
    "200/60"
   ]
  },
  {
   "cell_type": "code",
   "execution_count": null,
   "id": "cb5d61d8-7983-4aad-af1d-9b1c06f3e2ce",
   "metadata": {},
   "outputs": [],
   "source": []
  }
 ],
 "metadata": {
  "kernelspec": {
   "display_name": "Python",
   "language": "python",
   "name": "conda-env-python-py"
  },
  "language_info": {
   "codemirror_mode": {
    "name": "ipython",
    "version": 3
   },
   "file_extension": ".py",
   "mimetype": "text/x-python",
   "name": "python",
   "nbconvert_exporter": "python",
   "pygments_lexer": "ipython3",
   "version": "3.7.12"
  }
 },
 "nbformat": 4,
 "nbformat_minor": 5
}
